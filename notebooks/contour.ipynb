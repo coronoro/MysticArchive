{
 "cells": [
  {
   "cell_type": "code",
   "execution_count": 2,
   "metadata": {
    "collapsed": true
   },
   "outputs": [],
   "source": [
    "import cv2\n",
    "import numpy as np"
   ]
  },
  {
   "cell_type": "code",
   "execution_count": 4,
   "outputs": [],
   "source": [
    "img = cv2.imread('IMG_2960.jpg')"
   ],
   "metadata": {
    "collapsed": false
   }
  },
  {
   "cell_type": "code",
   "execution_count": 6,
   "outputs": [],
   "source": [
    "def scale_img(img, scale_width=1000):\n",
    "    scale_percent = (scale_width * 100) / img.shape[1]\n",
    "    height = int(img.shape[0] * scale_percent / 100)\n",
    "    dim = (scale_width, height)\n",
    "    return cv2.resize(img, dim)"
   ],
   "metadata": {
    "collapsed": false
   }
  },
  {
   "cell_type": "code",
   "execution_count": 7,
   "outputs": [],
   "source": [
    "img_gray = cv2.cvtColor(img, cv2.COLOR_BGR2GRAY)"
   ],
   "metadata": {
    "collapsed": false
   }
  },
  {
   "cell_type": "code",
   "execution_count": 8,
   "outputs": [
    {
     "data": {
      "text/plain": "-1"
     },
     "execution_count": 8,
     "metadata": {},
     "output_type": "execute_result"
    }
   ],
   "source": [
    "ret, thresh = cv2.threshold(img_gray, 60, 255, cv2.THRESH_BINARY)\n",
    "cv2.imshow('Binary image', thresh)\n",
    "cv2.waitKey(0)"
   ],
   "metadata": {
    "collapsed": false
   }
  },
  {
   "cell_type": "code",
   "execution_count": 9,
   "outputs": [
    {
     "data": {
      "text/plain": "True"
     },
     "execution_count": 9,
     "metadata": {},
     "output_type": "execute_result"
    }
   ],
   "source": [
    "contours, hierarchy = cv2.findContours(image=thresh, mode=cv2.RETR_TREE, method=cv2.CHAIN_APPROX_NONE)\n",
    "image_copy = img.copy()\n",
    "cv2.drawContours(image=image_copy, contours=contours, contourIdx=-1, color=(0, 255, 0), thickness=2, lineType=cv2.LINE_AA)\n",
    "\n",
    "# cv2.imshow('None approximation', image_copy)\n",
    "# cv2.waitKey(0)\n",
    "cv2.imwrite('contours_none_image1.jpg', image_copy)"
   ],
   "metadata": {
    "collapsed": false
   }
  },
  {
   "cell_type": "code",
   "execution_count": 11,
   "outputs": [],
   "source": [
    "contours1, hierarchy1 = cv2.findContours(thresh, cv2.RETR_TREE, cv2.CHAIN_APPROX_SIMPLE)\n",
    "# draw contours on the original image for `CHAIN_APPROX_SIMPLE`\n",
    "image_copy1 = img.copy()\n",
    "cv2.drawContours(image_copy1, contours1, -1, (0, 255, 0), 2, cv2.LINE_AA)\n",
    "# see the results\n",
    "# cv2.imshow('Simple approximation', image_copy1)\n",
    "# cv2.waitKey(0)\n",
    "cv2.imwrite('contours_simple_image1.jpg', image_copy1)\n",
    "cv2.destroyAllWindows()\n"
   ],
   "metadata": {
    "collapsed": false
   }
  },
  {
   "cell_type": "code",
   "execution_count": 17,
   "outputs": [],
   "source": [
    "# resized = scale_img(img)\n",
    "# cv2.imshow('card', resized)\n",
    "# cv2.waitKey(0)\n",
    "# cv2.destroyAllWindows()"
   ],
   "metadata": {
    "collapsed": false
   }
  },
  {
   "cell_type": "code",
   "execution_count": 13,
   "outputs": [
    {
     "ename": "error",
     "evalue": "OpenCV(4.6.0) D:\\a\\opencv-python\\opencv-python\\opencv\\modules\\imgproc\\src\\drawing.cpp:2491: error: (-215:Assertion failed) 0 <= contourIdx && contourIdx < (int)last in function 'cv::drawContours'\n",
     "output_type": "error",
     "traceback": [
      "\u001B[1;31m---------------------------------------------------------------------------\u001B[0m",
      "\u001B[1;31merror\u001B[0m                                     Traceback (most recent call last)",
      "Cell \u001B[1;32mIn [13], line 16\u001B[0m\n\u001B[0;32m     14\u001B[0m cv2\u001B[38;5;241m.\u001B[39mdrawContours(drawing, contours, i, color_contours, \u001B[38;5;241m1\u001B[39m, \u001B[38;5;241m8\u001B[39m, hierarchy)\n\u001B[0;32m     15\u001B[0m \u001B[38;5;66;03m# draw ith convex hull object\u001B[39;00m\n\u001B[1;32m---> 16\u001B[0m \u001B[43mcv2\u001B[49m\u001B[38;5;241;43m.\u001B[39;49m\u001B[43mdrawContours\u001B[49m\u001B[43m(\u001B[49m\u001B[43mdrawing\u001B[49m\u001B[43m,\u001B[49m\u001B[43m \u001B[49m\u001B[43mhull\u001B[49m\u001B[43m,\u001B[49m\u001B[43m \u001B[49m\u001B[43mi\u001B[49m\u001B[43m,\u001B[49m\u001B[43m \u001B[49m\u001B[43mcolor\u001B[49m\u001B[43m,\u001B[49m\u001B[43m \u001B[49m\u001B[38;5;241;43m1\u001B[39;49m\u001B[43m,\u001B[49m\u001B[43m \u001B[49m\u001B[38;5;241;43m8\u001B[39;49m\u001B[43m)\u001B[49m\n",
      "\u001B[1;31merror\u001B[0m: OpenCV(4.6.0) D:\\a\\opencv-python\\opencv-python\\opencv\\modules\\imgproc\\src\\drawing.cpp:2491: error: (-215:Assertion failed) 0 <= contourIdx && contourIdx < (int)last in function 'cv::drawContours'\n"
     ]
    }
   ],
   "source": [
    "# Find the convex hull object for each contour\n",
    "hull_list = []\n",
    "for i in range(len(contours)):\n",
    "    hull = cv2.convexHull(contours[i], False)\n",
    "    hull_list.append(hull)\n",
    "\n",
    "drawing = np.zeros((thresh.shape[0], thresh.shape[1], 3), np.uint8)\n",
    "\n",
    "# draw contours and hull points\n",
    "for i in range(len(contours)):\n",
    "    color_contours = (0, 255, 0) # green - color for contours\n",
    "    color = (255, 0, 0) # blue - color for convex hull\n",
    "    # draw ith contour\n",
    "    cv2.drawContours(drawing, contours, i, color_contours, 1, 8, hierarchy)\n",
    "    # draw ith convex hull object\n",
    "    cv2.drawContours(drawing, hull, i, color, 1, 8)\n"
   ],
   "metadata": {
    "collapsed": false
   }
  }
 ],
 "metadata": {
  "kernelspec": {
   "display_name": "Python 3",
   "language": "python",
   "name": "python3"
  },
  "language_info": {
   "codemirror_mode": {
    "name": "ipython",
    "version": 2
   },
   "file_extension": ".py",
   "mimetype": "text/x-python",
   "name": "python",
   "nbconvert_exporter": "python",
   "pygments_lexer": "ipython2",
   "version": "2.7.6"
  }
 },
 "nbformat": 4,
 "nbformat_minor": 0
}
