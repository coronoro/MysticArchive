{
 "cells": [
  {
   "cell_type": "code",
   "execution_count": 14,
   "metadata": {
    "collapsed": true
   },
   "outputs": [],
   "source": [
    "import cv2\n",
    "import numpy as np\n",
    "import random as rng\n",
    "\n",
    "img = cv2.imread('IMG_2960.jpg')"
   ]
  },
  {
   "cell_type": "code",
   "execution_count": 15,
   "outputs": [],
   "source": [
    "def scale_img(img, scale_width=1000):\n",
    "    scale_percent = (scale_width * 100) / img.shape[1]\n",
    "    height = int(img.shape[0] * scale_percent / 100)\n",
    "    dim = (scale_width, height)\n",
    "    return cv2.resize(img, dim)"
   ],
   "metadata": {
    "collapsed": false
   }
  },
  {
   "cell_type": "code",
   "execution_count": 16,
   "outputs": [],
   "source": [
    "gray = cv2.cvtColor(img, cv2.COLOR_BGR2GRAY) # convert to grayscale\n",
    "blur = cv2.blur(gray, (3, 3)) # blur the image\n",
    "ret, thresh = cv2.threshold(blur, 60, 255, cv2.THRESH_BINARY)"
   ],
   "metadata": {
    "collapsed": false
   }
  },
  {
   "cell_type": "markdown",
   "source": [],
   "metadata": {
    "collapsed": false
   }
  },
  {
   "cell_type": "code",
   "execution_count": 17,
   "outputs": [],
   "source": [
    "contours, hierarchy = cv2.findContours(thresh, cv2.RETR_TREE, cv2.CHAIN_APPROX_SIMPLE)"
   ],
   "metadata": {
    "collapsed": false
   }
  },
  {
   "cell_type": "code",
   "execution_count": 6,
   "outputs": [
    {
     "data": {
      "text/plain": "array([[[  -1,   -1,    1,   -1],\n        [   2,   -1,   -1,    0],\n        [   3,    1,   -1,    0],\n        ...,\n        [5872, 5870,   -1, 5222],\n        [  -1, 5871,   -1, 5222],\n        [  -1, 5222,   -1,    0]]], dtype=int32)"
     },
     "execution_count": 6,
     "metadata": {},
     "output_type": "execute_result"
    }
   ],
   "source": [
    "hierarchy"
   ],
   "metadata": {
    "collapsed": false
   }
  },
  {
   "cell_type": "code",
   "execution_count": null,
   "outputs": [],
   "source": [
    "# create hull array for convex hull points\n",
    "hull = []\n",
    "\n",
    "drawing = np.zeros((thresh.shape[0], thresh.shape[1], 3), np.uint8)\n",
    "height, width, channels = img.shape\n",
    "\n",
    "smalest_contour_area = height * width * 0.02 #contours smaler than 20% of the whole image should be removes\n",
    "\n",
    "# calculate points for each contour\n",
    "for i in range(len(contours)):\n",
    "    # creating convex hull object for each contour\n",
    "    color = (rng.randint(0,256), rng.randint(0,256), rng.randint(0,256))\n",
    "    contour = contours[i]\n",
    "    area = cv2.contourArea(contour)\n",
    "    if area > smalest_contour_area:\n",
    "        rect = cv2.minAreaRect(contour)\n",
    "        box = cv2.boxPoints(rect)\n",
    "        box = np.intp(box)\n",
    "    cv2.drawContours(drawing, [contour], 0, color)\n",
    "\n",
    "\n",
    "\n",
    "cv2.imshow('Binary image',scale_img(drawing))\n",
    "cv2.waitKey(0)\n"
   ],
   "metadata": {
    "collapsed": false,
    "pycharm": {
     "is_executing": true
    }
   }
  },
  {
   "cell_type": "code",
   "execution_count": null,
   "outputs": [],
   "source": [
    "    hull = cv2.convexHull(contour)\n",
    "    phull = Polygon([[x, y] for (x, y) in\n",
    "                     zip(hull[:, :, 0], hull[:, :, 1])])\n",
    "\n",
    "def characterize_card_contour(card_contour,\n",
    "                              max_segment_area,\n",
    "                              image_area):\n",
    "    \"\"\"\n",
    "    Calculates a bounding polygon for a contour, in addition\n",
    "    to several charasteristic parameters.\n",
    "    \"\"\"\n",
    "    phull = convex_hull_polygon(card_contour)\n",
    "    if (phull.area < 0.1 * max_segment_area or\n",
    "            phull.area < image_area / 1000.):\n",
    "        # break after card size range has been explored\n",
    "        continue_segmentation = False\n",
    "        is_card_candidate = False\n",
    "        bounding_poly = None\n",
    "        crop_factor = 1.\n",
    "    else:\n",
    "        continue_segmentation = True\n",
    "        bounding_poly = get_bounding_quad(phull)\n",
    "        qc_diff = quad_corner_diff(phull, bounding_poly)\n",
    "        crop_factor = min(1., (1. - qc_diff * 22. / 100.))\n",
    "        is_card_candidate = bool(\n",
    "            0.1 * max_segment_area < bounding_poly.area <\n",
    "            image_area * 0.99 and\n",
    "            qc_diff < 0.35 and\n",
    "            0.25 < polygon_form_factor(bounding_poly) < 0.33)\n",
    "\n",
    "    return (continue_segmentation,\n",
    "            is_card_candidate,\n",
    "            bounding_poly,\n",
    "            crop_factor)"
   ],
   "metadata": {
    "collapsed": false
   }
  },
  {
   "cell_type": "code",
   "execution_count": 19,
   "outputs": [],
   "source": [
    "# create an empty black image\n",
    "drawing = np.zeros((thresh.shape[0], thresh.shape[1], 3), np.uint8)\n",
    "\n",
    "# draw contours and hull points\n",
    "for i in range(len(contours)):\n",
    "    # color_contours = (0, 255, 0) # green - color for contours\n",
    "    color = (255, 0, 0) # blue - color for convex hull\n",
    "    # draw ith contour\n",
    "    # cv2.drawContours(drawing, contours, i, color_contours, 1, 8, hierarchy)\n",
    "    # draw ith convex hull object\n",
    "    cv2.drawContours(drawing, hull, i, color, 1, 8)"
   ],
   "metadata": {
    "collapsed": false
   }
  },
  {
   "cell_type": "code",
   "execution_count": null,
   "outputs": [],
   "source": [
    "cv2.imshow('Binary image', scale_img(drawing))\n",
    "cv2.waitKey(0)"
   ],
   "metadata": {
    "collapsed": false,
    "pycharm": {
     "is_executing": true
    }
   }
  },
  {
   "cell_type": "markdown",
   "source": [],
   "metadata": {
    "collapsed": false
   }
  }
 ],
 "metadata": {
  "kernelspec": {
   "display_name": "Python 3",
   "language": "python",
   "name": "python3"
  },
  "language_info": {
   "codemirror_mode": {
    "name": "ipython",
    "version": 2
   },
   "file_extension": ".py",
   "mimetype": "text/x-python",
   "name": "python",
   "nbconvert_exporter": "python",
   "pygments_lexer": "ipython2",
   "version": "2.7.6"
  }
 },
 "nbformat": 4,
 "nbformat_minor": 0
}
