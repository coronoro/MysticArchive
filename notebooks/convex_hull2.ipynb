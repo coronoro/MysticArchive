{
 "cells": [
  {
   "cell_type": "code",
   "execution_count": 1,
   "metadata": {
    "collapsed": true
   },
   "outputs": [],
   "source": [
    "import cv2\n",
    "import numpy as np\n",
    "import random as rng\n",
    "\n",
    "img = cv2.imread('IMG_2960.jpg')"
   ]
  },
  {
   "cell_type": "code",
   "execution_count": 2,
   "outputs": [],
   "source": [
    "def scale_img(img, scale_width=1000):\n",
    "    scale_percent = (scale_width * 100) / img.shape[1]\n",
    "    height = int(img.shape[0] * scale_percent / 100)\n",
    "    dim = (scale_width, height)\n",
    "    return cv2.resize(img, dim)"
   ],
   "metadata": {
    "collapsed": false
   }
  },
  {
   "cell_type": "code",
   "execution_count": 3,
   "outputs": [
    {
     "data": {
      "text/plain": "-1"
     },
     "execution_count": 3,
     "metadata": {},
     "output_type": "execute_result"
    }
   ],
   "source": [
    "dst = cv2.fastNlMeansDenoisingColored(img,None,10,10,7,21)\n",
    "cv2.imshow('Binary image',scale_img(dst))\n",
    "cv2.waitKey(0)"
   ],
   "metadata": {
    "collapsed": false
   }
  },
  {
   "cell_type": "code",
   "execution_count": 4,
   "outputs": [],
   "source": [
    "gray = cv2.cvtColor(dst, cv2.COLOR_BGR2GRAY) # convert to grayscale\n",
    "# blur = cv2.blur(gray, (3, 3)) # blur the image\n",
    "# ret, thresh = cv2.threshold(blur, cv2.ADAPTIVE_THRESH_GAUSSIAN_C,cv2.THRESH_BINARY,11,2)\n",
    "# thresh = cv2.adaptiveThreshold(gray,255,cv2.ADAPTIVE_THRESH_MEAN_C,cv2.THRESH_BINARY,11,2)\n",
    "blur = cv2.GaussianBlur(gray,(5,5),0)\n",
    "ret,thresh = cv2.threshold(blur,0,255,cv2.THRESH_BINARY+cv2.THRESH_OTSU)\n",
    "contours, hierarchy = cv2.findContours(thresh, cv2.RETR_TREE, cv2.CHAIN_APPROX_SIMPLE)\n"
   ],
   "metadata": {
    "collapsed": false
   }
  },
  {
   "cell_type": "code",
   "execution_count": 5,
   "outputs": [
    {
     "data": {
      "text/plain": "-1"
     },
     "execution_count": 5,
     "metadata": {},
     "output_type": "execute_result"
    }
   ],
   "source": [
    "drawing = cv2.drawContours(img, contours, -1, (0,255,0), 3)\n",
    "cv2.imshow('Binary image',scale_img(drawing))\n",
    "cv2.waitKey(0)"
   ],
   "metadata": {
    "collapsed": false
   }
  },
  {
   "cell_type": "markdown",
   "source": [],
   "metadata": {
    "collapsed": false
   }
  },
  {
   "cell_type": "code",
   "execution_count": 31,
   "outputs": [],
   "source": [
    "#Noice Removal\n",
    "gray = cv2.cvtColor(img, cv2.COLOR_BGR2GRAY) # convert to grayscale\n",
    "blur = cv2.GaussianBlur(gray,(5,5),0)\n",
    "ret,thresh = cv2.threshold(blur,0,255,cv2.THRESH_BINARY+cv2.THRESH_OTSU)\n",
    "kernel = cv2.getStructuringElement(cv2.MORPH_RECT, (3,3))\n",
    "erodeImage = cv2.erode(thresh,kernel, iterations=1)\n",
    "dilatedImg = cv2.dilate(erodeImage,kernel, iterations=1)\n",
    "contours, hierarchy = cv2.findContours(dilatedImg,cv2.RETR_TREE,cv2.CHAIN_APPROX_SIMPLE)"
   ],
   "metadata": {
    "collapsed": false
   }
  },
  {
   "cell_type": "code",
   "execution_count": 32,
   "outputs": [
    {
     "data": {
      "text/plain": "-1"
     },
     "execution_count": 32,
     "metadata": {},
     "output_type": "execute_result"
    }
   ],
   "source": [
    "drawing = cv2.drawContours(img, contours, -1, (0,255,0), 3)\n",
    "cv2.imshow('Binary image',scale_img(drawing))\n",
    "cv2.waitKey(0)"
   ],
   "metadata": {
    "collapsed": false
   }
  },
  {
   "cell_type": "code",
   "execution_count": 6,
   "outputs": [
    {
     "name": "stdout",
     "output_type": "stream",
     "text": [
      "1528\n"
     ]
    }
   ],
   "source": [
    "print(len(contours))\n"
   ],
   "metadata": {
    "collapsed": false
   }
  },
  {
   "cell_type": "code",
   "execution_count": 13,
   "outputs": [],
   "source": [],
   "metadata": {
    "collapsed": false
   }
  },
  {
   "cell_type": "code",
   "execution_count": 24,
   "outputs": [
    {
     "name": "stdout",
     "output_type": "stream",
     "text": [
      "1758\n"
     ]
    },
    {
     "ename": "KeyboardInterrupt",
     "evalue": "",
     "output_type": "error",
     "traceback": [
      "\u001B[1;31m---------------------------------------------------------------------------\u001B[0m",
      "\u001B[1;31mKeyboardInterrupt\u001B[0m                         Traceback (most recent call last)",
      "Cell \u001B[1;32mIn [24], line 41\u001B[0m\n\u001B[0;32m     38\u001B[0m     \u001B[38;5;28;01mreturn\u001B[39;00m current_contours\n\u001B[0;32m     40\u001B[0m \u001B[38;5;28mprint\u001B[39m(\u001B[38;5;28mlen\u001B[39m(contours))\n\u001B[1;32m---> 41\u001B[0m contours \u001B[38;5;241m=\u001B[39m \u001B[43magglomerative_cluster\u001B[49m\u001B[43m(\u001B[49m\u001B[43mcontours\u001B[49m\u001B[43m)\u001B[49m\n\u001B[0;32m     42\u001B[0m \u001B[38;5;28mprint\u001B[39m(\u001B[38;5;28mlen\u001B[39m(contours))\n",
      "Cell \u001B[1;32mIn [24], line 23\u001B[0m, in \u001B[0;36magglomerative_cluster\u001B[1;34m(contours, threshold_distance)\u001B[0m\n\u001B[0;32m     21\u001B[0m \u001B[38;5;28;01mfor\u001B[39;00m x \u001B[38;5;129;01min\u001B[39;00m \u001B[38;5;28mrange\u001B[39m(\u001B[38;5;28mlen\u001B[39m(current_contours)\u001B[38;5;241m-\u001B[39m\u001B[38;5;241m1\u001B[39m):\n\u001B[0;32m     22\u001B[0m     \u001B[38;5;28;01mfor\u001B[39;00m y \u001B[38;5;129;01min\u001B[39;00m \u001B[38;5;28mrange\u001B[39m(x\u001B[38;5;241m+\u001B[39m\u001B[38;5;241m1\u001B[39m, \u001B[38;5;28mlen\u001B[39m(current_contours)):\n\u001B[1;32m---> 23\u001B[0m         distance \u001B[38;5;241m=\u001B[39m \u001B[43mcalculate_contour_distance\u001B[49m\u001B[43m(\u001B[49m\u001B[43mcurrent_contours\u001B[49m\u001B[43m[\u001B[49m\u001B[43mx\u001B[49m\u001B[43m]\u001B[49m\u001B[43m,\u001B[49m\u001B[43m \u001B[49m\u001B[43mcurrent_contours\u001B[49m\u001B[43m[\u001B[49m\u001B[43my\u001B[49m\u001B[43m]\u001B[49m\u001B[43m)\u001B[49m\n\u001B[0;32m     24\u001B[0m         \u001B[38;5;28;01mif\u001B[39;00m min_distance \u001B[38;5;129;01mis\u001B[39;00m \u001B[38;5;28;01mNone\u001B[39;00m:\n\u001B[0;32m     25\u001B[0m             min_distance \u001B[38;5;241m=\u001B[39m distance\n",
      "Cell \u001B[1;32mIn [24], line 2\u001B[0m, in \u001B[0;36mcalculate_contour_distance\u001B[1;34m(contour1, contour2)\u001B[0m\n\u001B[0;32m      1\u001B[0m \u001B[38;5;28;01mdef\u001B[39;00m \u001B[38;5;21mcalculate_contour_distance\u001B[39m(contour1, contour2):\n\u001B[1;32m----> 2\u001B[0m     x1, y1, w1, h1 \u001B[38;5;241m=\u001B[39m \u001B[43mcv2\u001B[49m\u001B[38;5;241;43m.\u001B[39;49m\u001B[43mboundingRect\u001B[49m\u001B[43m(\u001B[49m\u001B[43mcontour1\u001B[49m\u001B[43m)\u001B[49m\n\u001B[0;32m      3\u001B[0m     c_x1 \u001B[38;5;241m=\u001B[39m x1 \u001B[38;5;241m+\u001B[39m w1\u001B[38;5;241m/\u001B[39m\u001B[38;5;241m2\u001B[39m\n\u001B[0;32m      4\u001B[0m     c_y1 \u001B[38;5;241m=\u001B[39m y1 \u001B[38;5;241m+\u001B[39m h1\u001B[38;5;241m/\u001B[39m\u001B[38;5;241m2\u001B[39m\n",
      "\u001B[1;31mKeyboardInterrupt\u001B[0m: "
     ]
    }
   ],
   "source": [
    "def calculate_contour_distance(contour1, contour2):\n",
    "    x1, y1, w1, h1 = cv2.boundingRect(contour1)\n",
    "    c_x1 = x1 + w1/2\n",
    "    c_y1 = y1 + h1/2\n",
    "\n",
    "    x2, y2, w2, h2 = cv2.boundingRect(contour2)\n",
    "    c_x2 = x2 + w2/2\n",
    "    c_y2 = y2 + h2/2\n",
    "\n",
    "    return max(abs(c_x1 - c_x2) - (w1 + w2)/2, abs(c_y1 - c_y2) - (h1 + h2)/2)\n",
    "\n",
    "def merge_contours(contour1, contour2):\n",
    "    return np.concatenate((contour1, contour2), axis=0)\n",
    "\n",
    "def agglomerative_cluster(contours, threshold_distance=40.0):\n",
    "    current_contours = list(contours)\n",
    "    while len(current_contours) > 1:\n",
    "        min_distance = None\n",
    "        min_coordinate = None\n",
    "\n",
    "        for x in range(len(current_contours)-1):\n",
    "            for y in range(x+1, len(current_contours)):\n",
    "                distance = calculate_contour_distance(current_contours[x], current_contours[y])\n",
    "                if min_distance is None:\n",
    "                    min_distance = distance\n",
    "                    min_coordinate = (x, y)\n",
    "                elif distance < min_distance:\n",
    "                    min_distance = distance\n",
    "                    min_coordinate = (x, y)\n",
    "\n",
    "        if min_distance < threshold_distance:\n",
    "            index1, index2 = min_coordinate\n",
    "            current_contours[index1] = merge_contours(current_contours[index1], current_contours[index2])\n",
    "            del current_contours[index2]\n",
    "        else:\n",
    "            break\n",
    "\n",
    "    return current_contours\n",
    "\n",
    "contours = agglomerative_cluster(contours)\n",
    "print(len(contours))"
   ],
   "metadata": {
    "collapsed": false
   }
  },
  {
   "cell_type": "code",
   "execution_count": 13,
   "outputs": [
    {
     "data": {
      "text/plain": "-1"
     },
     "execution_count": 13,
     "metadata": {},
     "output_type": "execute_result"
    }
   ],
   "source": [
    "# create hull array for convex hull points\n",
    "hull = []\n",
    "\n",
    "drawing = np.zeros((thresh.shape[0], thresh.shape[1], 3), np.uint8)\n",
    "height, width, channels = img.shape\n",
    "\n",
    "smalest_contour_area = height * width * 0.02 #contours smaler than 20% of the whole image should be removed\n",
    "\n",
    "final_contours = []\n",
    "# calculate points for each contour\n",
    "for i in range(len(contours)):\n",
    "    # creating convex hull object for each contour\n",
    "    contour = contours[i]\n",
    "    area = cv2.contourArea(contour)\n",
    "    if area >= smalest_contour_area:\n",
    "        # color = (rng.randint(0,256), rng.randint(0,256), rng.randint(0,256))\n",
    "        rect = cv2.minAreaRect(contour)\n",
    "        final_contours.append(rect)\n",
    "        box = cv2.boxPoints(rect)\n",
    "        box = np.intp(box)\n",
    "        # cv2.drawContours(drawing, [box], 0, color)\n",
    "        cv2.drawContours(drawing, [box], 0, 255)\n",
    "\n",
    "\n",
    "\n",
    "cv2.imshow('Binary image',scale_img(drawing))\n",
    "cv2.waitKey(0)\n",
    "# final_contours"
   ],
   "metadata": {
    "collapsed": false
   }
  },
  {
   "cell_type": "code",
   "execution_count": 10,
   "outputs": [
    {
     "ename": "error",
     "evalue": "OpenCV(4.6.0) :-1: error: (-5:Bad argument) in function 'drawContours'\n> Overload resolution failed:\n>  - Can't parse 'contours'. Sequence item with index 0 has a wrong type\n>  - Can't parse 'contours'. Sequence item with index 0 has a wrong type\n",
     "output_type": "error",
     "traceback": [
      "\u001B[1;31m---------------------------------------------------------------------------\u001B[0m",
      "\u001B[1;31merror\u001B[0m                                     Traceback (most recent call last)",
      "Cell \u001B[1;32mIn [10], line 1\u001B[0m\n\u001B[1;32m----> 1\u001B[0m drawing2 \u001B[38;5;241m=\u001B[39m \u001B[43mcv2\u001B[49m\u001B[38;5;241;43m.\u001B[39;49m\u001B[43mdrawContours\u001B[49m\u001B[43m(\u001B[49m\u001B[43mimg\u001B[49m\u001B[43m,\u001B[49m\u001B[43m \u001B[49m\u001B[43mfinal_contours\u001B[49m\u001B[43m,\u001B[49m\u001B[43m \u001B[49m\u001B[38;5;241;43m-\u001B[39;49m\u001B[38;5;241;43m1\u001B[39;49m\u001B[43m,\u001B[49m\u001B[43m \u001B[49m\u001B[43m(\u001B[49m\u001B[38;5;241;43m0\u001B[39;49m\u001B[43m,\u001B[49m\u001B[38;5;241;43m255\u001B[39;49m\u001B[43m,\u001B[49m\u001B[38;5;241;43m0\u001B[39;49m\u001B[43m)\u001B[49m\u001B[43m,\u001B[49m\u001B[43m \u001B[49m\u001B[38;5;241;43m3\u001B[39;49m\u001B[43m)\u001B[49m\n\u001B[0;32m      2\u001B[0m cv2\u001B[38;5;241m.\u001B[39mimshow(\u001B[38;5;124m'\u001B[39m\u001B[38;5;124mBinary image\u001B[39m\u001B[38;5;124m'\u001B[39m,scale_img(drawing2))\n\u001B[0;32m      3\u001B[0m cv2\u001B[38;5;241m.\u001B[39mwaitKey(\u001B[38;5;241m0\u001B[39m)\n",
      "\u001B[1;31merror\u001B[0m: OpenCV(4.6.0) :-1: error: (-5:Bad argument) in function 'drawContours'\n> Overload resolution failed:\n>  - Can't parse 'contours'. Sequence item with index 0 has a wrong type\n>  - Can't parse 'contours'. Sequence item with index 0 has a wrong type\n"
     ]
    }
   ],
   "source": [
    "drawing2 = cv2.drawContours(img, final_contours, -1, (0,255,0), 3)\n",
    "cv2.imshow('Binary image',scale_img(drawing2))\n",
    "cv2.waitKey(0)"
   ],
   "metadata": {
    "collapsed": false
   }
  },
  {
   "cell_type": "code",
   "execution_count": null,
   "outputs": [],
   "source": [
    "    hull = cv2.convexHull(contour)\n",
    "    phull = Polygon([[x, y] for (x, y) in\n",
    "                     zip(hull[:, :, 0], hull[:, :, 1])])\n",
    "\n",
    "def characterize_card_contour(card_contour,\n",
    "                              max_segment_area,\n",
    "                              image_area):\n",
    "    \"\"\"\n",
    "    Calculates a bounding polygon for a contour, in addition\n",
    "    to several charasteristic parameters.\n",
    "    \"\"\"\n",
    "    phull = convex_hull_polygon(card_contour)\n",
    "    if (phull.area < 0.1 * max_segment_area or\n",
    "            phull.area < image_area / 1000.):\n",
    "        # break after card size range has been explored\n",
    "        continue_segmentation = False\n",
    "        is_card_candidate = False\n",
    "        bounding_poly = None\n",
    "        crop_factor = 1.\n",
    "    else:\n",
    "        continue_segmentation = True\n",
    "        bounding_poly = get_bounding_quad(phull)\n",
    "        qc_diff = quad_corner_diff(phull, bounding_poly)\n",
    "        crop_factor = min(1., (1. - qc_diff * 22. / 100.))\n",
    "        is_card_candidate = bool(\n",
    "            0.1 * max_segment_area < bounding_poly.area <\n",
    "            image_area * 0.99 and\n",
    "            qc_diff < 0.35 and\n",
    "            0.25 < polygon_form_factor(bounding_poly) < 0.33)\n",
    "\n",
    "    return (continue_segmentation,\n",
    "            is_card_candidate,\n",
    "            bounding_poly,\n",
    "            crop_factor)"
   ],
   "metadata": {
    "collapsed": false
   }
  },
  {
   "cell_type": "code",
   "execution_count": null,
   "outputs": [],
   "source": [
    "# create an empty black image\n",
    "drawing = np.zeros((thresh.shape[0], thresh.shape[1], 3), np.uint8)\n",
    "\n",
    "# draw contours and hull points\n",
    "for i in range(len(contours)):\n",
    "    # color_contours = (0, 255, 0) # green - color for contours\n",
    "    color = (255, 0, 0) # blue - color for convex hull\n",
    "    # draw ith contour\n",
    "    # cv2.drawContours(drawing, contours, i, color_contours, 1, 8, hierarchy)\n",
    "    # draw ith convex hull object\n",
    "    cv2.drawContours(drawing, hull, i, color, 1, 8)"
   ],
   "metadata": {
    "collapsed": false
   }
  },
  {
   "cell_type": "code",
   "execution_count": null,
   "outputs": [],
   "source": [
    "cv2.imshow('Binary image', scale_img(drawing))\n",
    "cv2.waitKey(0)"
   ],
   "metadata": {
    "collapsed": false
   }
  },
  {
   "cell_type": "markdown",
   "source": [],
   "metadata": {
    "collapsed": false
   }
  }
 ],
 "metadata": {
  "kernelspec": {
   "display_name": "Python 3",
   "language": "python",
   "name": "python3"
  },
  "language_info": {
   "codemirror_mode": {
    "name": "ipython",
    "version": 2
   },
   "file_extension": ".py",
   "mimetype": "text/x-python",
   "name": "python",
   "nbconvert_exporter": "python",
   "pygments_lexer": "ipython2",
   "version": "2.7.6"
  }
 },
 "nbformat": 4,
 "nbformat_minor": 0
}
